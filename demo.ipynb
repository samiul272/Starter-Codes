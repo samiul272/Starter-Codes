{
 "cells": [
  {
   "cell_type": "markdown",
   "metadata": {
    "collapsed": true
   },
   "source": [
    "# Import Libraries\n",
    "* numpy\n",
    "* PIL\n",
    "* pandas"
   ]
  },
  {
   "cell_type": "code",
   "execution_count": 1,
   "metadata": {
    "collapsed": true
   },
   "outputs": [],
   "source": [
    "from loaders import loadData,vis_image"
   ]
  },
  {
   "cell_type": "markdown",
   "metadata": {},
   "source": [
    "# Load Training Data"
   ]
  },
  {
   "cell_type": "code",
   "execution_count": 6,
   "metadata": {},
   "outputs": [
    {
     "name": "stdout",
     "output_type": "stream",
     "text": [
      "Loaded Training Set a:. 5/50\n",
      "Loaded Training Set a:. 10/50\n",
      "Loaded Training Set a:. 15/50\n",
      "Loaded Training Set a:. 20/50\n",
      "Loaded Training Set a:. 25/50\n",
      "Loaded Training Set a:. 30/50\n",
      "Loaded Training Set a:. 35/50\n",
      "Loaded Training Set a:. 40/50\n",
      "Loaded Training Set a:. 45/50\n",
      "Loaded Training Set a:. 50/50\n",
      "Loaded Training Set b:. 5/50\n",
      "Loaded Training Set b:. 10/50\n",
      "Loaded Training Set b:. 15/50\n",
      "Loaded Training Set b:. 20/50\n",
      "Loaded Training Set b:. 25/50\n",
      "Loaded Training Set b:. 30/50\n",
      "Loaded Training Set b:. 35/50\n",
      "Loaded Training Set b:. 40/50\n",
      "Loaded Training Set b:. 45/50\n",
      "Loaded Training Set b:. 50/50\n",
      "Loaded Training Set c:. 5/50\n",
      "Loaded Training Set c:. 10/50\n",
      "Loaded Training Set c:. 15/50\n",
      "Loaded Training Set c:. 20/50\n",
      "Loaded Training Set c:. 25/50\n",
      "Loaded Training Set c:. 30/50\n",
      "Loaded Training Set c:. 35/50\n",
      "Loaded Training Set c:. 40/50\n",
      "Loaded Training Set c:. 45/50\n",
      "Loaded Training Set c:. 50/50\n",
      "Loaded Training Set d:. 5/50\n",
      "Loaded Training Set d:. 10/50\n",
      "Loaded Training Set d:. 15/50\n",
      "Loaded Training Set d:. 20/50\n",
      "Loaded Training Set d:. 25/50\n",
      "Loaded Training Set d:. 30/50\n",
      "Loaded Training Set d:. 35/50\n",
      "Loaded Training Set d:. 40/50\n",
      "Loaded Training Set d:. 45/50\n",
      "Loaded Training Set d:. 50/50\n",
      "Loaded Training Set e:. 5/50\n",
      "Loaded Training Set e:. 10/50\n",
      "Loaded Training Set e:. 15/50\n",
      "Loaded Training Set e:. 20/50\n",
      "Loaded Training Set e:. 25/50\n",
      "Loaded Training Set e:. 30/50\n",
      "Loaded Training Set e:. 35/50\n",
      "Loaded Training Set e:. 40/50\n",
      "Loaded Training Set e:. 45/50\n",
      "Loaded Training Set e:. 50/50\n"
     ]
    }
   ],
   "source": [
    "X,Y = loadData(\"E:/Final_DB\",size = 80, mode = 'RGB',rng = (0,50))"
   ]
  },
  {
   "cell_type": "markdown",
   "metadata": {},
   "source": [
    "# Visualise Data Points"
   ]
  },
  {
   "cell_type": "code",
   "execution_count": 8,
   "metadata": {},
   "outputs": [
    {
     "data": {
      "image/png": "[encoded data removed]",
      "text/plain": [
       "<matplotlib.figure.Figure at 0x1d63a494b38>"
      ]
     },
     "metadata": {},
     "output_type": "display_data"
    },
    {
     "name": "stdout",
     "output_type": "stream",
     "text": [
      "Label 3\n"
     ]
    }
   ],
   "source": [
    "vis_image(1,X,Y)"
   ]
  },
  {
   "cell_type": "code",
   "execution_count": null,
   "metadata": {
    "collapsed": true
   },
   "outputs": [],
   "source": []
  }
 ],
 "metadata": {
  "kernelspec": {
   "display_name": "Python 3",
   "language": "python",
   "name": "python3"
  },
  "language_info": {
   "codemirror_mode": {
    "name": "ipython",
    "version": 3
   },
   "file_extension": ".py",
   "mimetype": "text/x-python",
   "name": "python",
   "nbconvert_exporter": "python",
   "pygments_lexer": "ipython3",
   "version": "3.6.2"
  }
 },
 "nbformat": 4,
 "nbformat_minor": 1
}
